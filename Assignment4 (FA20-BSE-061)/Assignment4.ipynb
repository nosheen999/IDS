{
  "cells": [
    {
      "cell_type": "code",
      "execution_count": null,
      "metadata": {
        "colab": {
          "base_uri": "https://localhost:8080/",
          "height": 254
        },
        "id": "N-XT3OeBIovl",
        "outputId": "de724e8c-f7a0-4663-86d3-83e9788891a4"
      },
      "outputs": [
        {
          "ename": "NameError",
          "evalue": "ignored",
          "output_type": "error",
          "traceback": [
            "\u001b[0;31m---------------------------------------------------------------------------\u001b[0m",
            "\u001b[0;31mNameError\u001b[0m                                 Traceback (most recent call last)",
            "\u001b[0;32m<ipython-input-1-5673288b6cd4>\u001b[0m in \u001b[0;36m<cell line: 25>\u001b[0;34m()\u001b[0m\n\u001b[1;32m     23\u001b[0m \u001b[0;34m\u001b[0m\u001b[0m\n\u001b[1;32m     24\u001b[0m \u001b[0;31m# TF.IDF\u001b[0m\u001b[0;34m\u001b[0m\u001b[0;34m\u001b[0m\u001b[0m\n\u001b[0;32m---> 25\u001b[0;31m \u001b[0mX_tfidf\u001b[0m \u001b[0;34m=\u001b[0m \u001b[0mtfidf_transformer\u001b[0m\u001b[0;34m.\u001b[0m\u001b[0mfit_transform\u001b[0m\u001b[0;34m(\u001b[0m\u001b[0mX_bow\u001b[0m\u001b[0;34m)\u001b[0m\u001b[0;34m\u001b[0m\u001b[0;34m\u001b[0m\u001b[0m\n\u001b[0m\u001b[1;32m     26\u001b[0m \u001b[0;34m\u001b[0m\u001b[0m\n\u001b[1;32m     27\u001b[0m \u001b[0;31m# Display the results for Q1\u001b[0m\u001b[0;34m\u001b[0m\u001b[0;34m\u001b[0m\u001b[0m\n",
            "\u001b[0;31mNameError\u001b[0m: name 'tfidf_transformer' is not defined"
          ]
        }
      ],
      "source": [
        "# 11/12/23\n",
        "# CSC461 – Assignment4 – NLP\n",
        "# Nosheen Azhar\n",
        "# YFA20-BSE-061\n",
        "# A brief description of the task\n",
        "\n",
        "from sklearn.feature_extraction.text import CountVectorizer, TfidfTransformer\n",
        "from sklearn.metrics.pairwise import cosine_similarity, manhattan_distances, euclidean_distances\n",
        "\n",
        "# Define the three sentences\n",
        "sentences = [\n",
        "    \"data science is one of the most important courses in computer science\",\n",
        "    \"this is one of the best data science courses\",\n",
        "    \"the data scientists perform data analysis\"\n",
        "]\n",
        "\n",
        "# Q1: Compute BoW, TF, IDF, and TF.IDF values\n",
        "# BoW\n",
        "vectorizer = CountVectorizer()\n",
        "X_bow = vectorizer.fit_transform(sentences)\n",
        "\n",
        "# TF\n",
        "tf_transformer = TfidfTransformer(use_idf=False)\n",
        "X_tf = tf_transformer.fit_transform(X_bow)\n",
        "\n",
        "# IDF\n",
        "idf_transformer = TfidfTransformer(use_idf=True)\n",
        "X_idf = idf_transformer.fit_transform(X_bow)\n",
        "\n",
        "# TF.IDF\n",
        "X_tfidf = idf_transformer.fit_transform(X_bow)  # Corrected variable name\n",
        "\n",
        "# Display the results for Q1\n",
        "print(\"BoW values:\")\n",
        "print(X_bow.toarray())\n",
        "print(\"\\nTF values:\")\n",
        "print(X_tf.toarray())\n",
        "print(\"\\nIDF values:\")\n",
        "print(idf_transformer.idf_)\n",
        "print(\"\\nTF.IDF values:\")\n",
        "print(X_tfidf.toarray())\n",
        "\n",
        "# Q2: Compute similarity using cosine, manhattan, and euclidean distances\n",
        "# Cosine Similarity\n",
        "cosine_similarities = cosine_similarity(X_tfidf)\n",
        "print(\"\\nCosine Similarities:\")\n",
        "print(cosine_similarities)\n",
        "\n",
        "# Manhattan Distance\n",
        "manhattan_distances_result = manhattan_distances(X_tfidf)\n",
        "print(\"\\nManhattan Distances:\")\n",
        "print(manhattan_distances_result)\n",
        "\n",
        "# Euclidean Distance\n",
        "euclidean_distances_result = euclidean_distances(X_tfidf)\n",
        "print(\"\\nEuclidean Distances:\")\n",
        "print(euclidean_distances_result)\n",
        "\n",
        "\n"
      ]
    }
  ],
  "metadata": {
    "colab": {
      "provenance": []
    },
    "kernelspec": {
      "display_name": "Python 3",
      "name": "python3"
    },
    "language_info": {
      "name": "python"
    }
  },
  "nbformat": 4,
  "nbformat_minor": 0
}
